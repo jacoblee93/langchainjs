{
  "cells": [
    {
      "attachments": {},
      "cell_type": "markdown",
      "id": "11ecbc16",
      "metadata": {},
      "source": [
        "# This is some markdown\n",
        "\n",
        "Isn't that special\n",
        "\n",
        "> No this is special"
      ]
    },
    {
      "cell_type": "code",
      "execution_count": 10,
      "id": "ad841225",
      "metadata": {
        "ExecuteTime": {
          "end_time": "2023-10-25T00:32:37.347948+00:00",
          "start_time": "2023-10-25T00:32:37.329550+00:00"
        },
        "noteable": {}
      },
      "outputs": [
        {
          "name": "stdout",
          "output_type": "stream",
          "text": [
            "q {\n",
            "  lc_serializable: false,\n",
            "  lc_kwargs: \"What is a good name for a company that makes colorful socks\",\n",
            "  lc_namespace: [ \"langchain\", \"prompts\", \"base\" ],\n",
            "  value: \"What is a good name for a company that makes colorful socks\"\n",
            "}\n"
          ]
        }
      ],
      "source": [
        "import { PromptTemplate } from \"https://esm.sh/langchain/prompts\";\n",
        "\n",
        "const prompt = PromptTemplate.fromTemplate(`What is a good name for a company that makes {product}`);\n",
        "\n",
        "const result = await prompt.invoke({product: \"colorful socks\"});\n",
        "\n",
        "console.log(result);"
      ]
    }
  ],
  "metadata": {
    "kernel_info": {
      "name": "typescript-deno-1.37-packages"
    },
    "kernelspec": {
      "display_name": "Deno",
      "identifier": "packages",
      "language": "typescript",
      "language_version": "(Deno 1.37)",
      "name": "deno"
    },
    "language_info": {
      "file_extension": ".ts",
      "mimetype": "text/x.typescript",
      "name": "typescript",
      "nb_converter": "script",
      "pygments_lexer": "typescript",
      "version": "5.2.2"
    },
    "noteable": {
      "last_delta_id": "0728877a-d7d5-4fcf-bd6a-a3e07b9c7652"
    },
    "nteract": {
      "version": "noteable@2.9.0"
    },
    "selected_hardware_size": "small"
  },
  "nbformat": 4,
  "nbformat_minor": 5
}
